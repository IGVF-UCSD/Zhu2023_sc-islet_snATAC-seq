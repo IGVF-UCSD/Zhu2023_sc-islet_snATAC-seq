{
 "cells": [
  {
   "attachments": {},
   "cell_type": "markdown",
   "metadata": {},
   "source": [
    "# Quality control and filtering scATAC-seq data with Muon\n",
    "**Author**: Adam Klie (last modified: 10/08/2023)<br>\n",
    "***\n",
    "**Description**: This script performs the initial quality control and filtering for a single cell ATAC-seq dataset using the Muon package. The output of this script is a filtered count matrix and a list of cells that passed QC. The filtered count matrix is used for downstream analysis. The list of cells that passed QC is used to filter the metadata file for downstream analysis."
   ]
  },
  {
   "cell_type": "code",
   "execution_count": 27,
   "metadata": {},
   "outputs": [],
   "source": [
    "# Imports\n",
    "import os\n",
    "import numpy as np\n",
    "from scipy.io import mmread\n",
    "import pandas as pd\n",
    "import matplotlib.pyplot as plt\n",
    "import seaborn as sns\n",
    "import scanpy as sc\n",
    "from muon import atac as ac\n",
    "\n",
    "# CellCommander\n",
    "from cellcommander.qc import atac"
   ]
  },
  {
   "cell_type": "code",
   "execution_count": 79,
   "metadata": {},
   "outputs": [],
   "source": [
    "# Paths\n",
    "sample = \"MM129\"\n",
    "input_h5ad_path = f\"/cellar/users/aklie/data/datasets/Zhu2023_sc-islet_snATAC-seq/processed/23Oct23/cellranger/{sample}/outs/filtered_peak_bc_matrix.h5\"\n",
    "outdir_path = f\"/cellar/users/aklie/data/datasets/Zhu2023_sc-islet_snATAC-seq/annotation/26Oct23/cellcommander/{sample}/threshold_qc\"\n",
    "metadata_path = None"
   ]
  },
  {
   "cell_type": "code",
   "execution_count": 80,
   "metadata": {},
   "outputs": [],
   "source": [
    "# If output directory does not exist, create it.\n",
    "if not os.path.exists(outdir_path):\n",
    "    os.makedirs(outdir_path)"
   ]
  },
  {
   "cell_type": "code",
   "execution_count": 81,
   "metadata": {},
   "outputs": [
    {
     "name": "stderr",
     "output_type": "stream",
     "text": [
      "/cellar/users/aklie/opt/miniconda3/envs/scverse-py39-R431/lib/python3.9/site-packages/anndata/_core/anndata.py:1113: FutureWarning: is_categorical_dtype is deprecated and will be removed in a future version. Use isinstance(dtype, CategoricalDtype) instead\n",
      "  if not is_categorical_dtype(df_full[k]):\n"
     ]
    },
    {
     "data": {
      "text/plain": [
       "AnnData object with n_obs × n_vars = 20000 × 305581\n",
       "    var: 'gene_ids', 'feature_types', 'genome'\n",
       "    uns: 'files'"
      ]
     },
     "execution_count": 81,
     "metadata": {},
     "output_type": "execute_result"
    }
   ],
   "source": [
    "# Load the dataset\n",
    "adata = ac.read_10x_h5(input_h5ad_path)\n",
    "adata.var_names_make_unique()\n",
    "adata.uns[\"files\"] = {}\n",
    "adata.uns[\"files\"][\"fragments\"] = f\"/cellar/users/aklie/data/datasets/Zhu2023_sc-islet_snATAC-seq/processed/23Oct23/cellranger/{sample}/outs/fragments.tsv.gz\"\n",
    "adata"
   ]
  },
  {
   "cell_type": "code",
   "execution_count": 82,
   "metadata": {},
   "outputs": [],
   "source": [
    "# Define run parameters\n",
    "output_prefix = \"threshold_qc\"\n",
    "total_counts_nmads = None\n",
    "n_features_nmads = None\n",
    "n_top_features = 20\n",
    "pct_counts_in_top_features_nmads = None\n",
    "total_counts_low = 1000\n",
    "total_counts_hi = 60000\n",
    "n_for_ns_calc = 1000\n",
    "ns_nmads = None\n",
    "ns_hi = 1.5\n",
    "n_features_low = 1000\n",
    "n_tss = 1000\n",
    "tss_nmads = None\n",
    "tss_low = 4\n",
    "tss_hi = 18\n",
    "min_cells_per_feature = 10\n",
    "random_state = 1234"
   ]
  },
  {
   "cell_type": "code",
   "execution_count": 83,
   "metadata": {},
   "outputs": [
    {
     "data": {
      "text/html": [
       "<div>\n",
       "<style scoped>\n",
       "    .dataframe tbody tr th:only-of-type {\n",
       "        vertical-align: middle;\n",
       "    }\n",
       "\n",
       "    .dataframe tbody tr th {\n",
       "        vertical-align: top;\n",
       "    }\n",
       "\n",
       "    .dataframe thead th {\n",
       "        text-align: right;\n",
       "    }\n",
       "</style>\n",
       "<table border=\"1\" class=\"dataframe\">\n",
       "  <thead>\n",
       "    <tr style=\"text-align: right;\">\n",
       "      <th></th>\n",
       "      <th>Chromosome</th>\n",
       "      <th>Start</th>\n",
       "      <th>Strand</th>\n",
       "      <th>Gene</th>\n",
       "      <th>Transcript_type</th>\n",
       "    </tr>\n",
       "  </thead>\n",
       "  <tbody>\n",
       "    <tr>\n",
       "      <th>234</th>\n",
       "      <td>chrY</td>\n",
       "      <td>22490397</td>\n",
       "      <td>1</td>\n",
       "      <td>PRY</td>\n",
       "      <td>protein_coding</td>\n",
       "    </tr>\n",
       "    <tr>\n",
       "      <th>259</th>\n",
       "      <td>chrY</td>\n",
       "      <td>12662368</td>\n",
       "      <td>1</td>\n",
       "      <td>USP9Y</td>\n",
       "      <td>protein_coding</td>\n",
       "    </tr>\n",
       "    <tr>\n",
       "      <th>261</th>\n",
       "      <td>chrY</td>\n",
       "      <td>12701231</td>\n",
       "      <td>1</td>\n",
       "      <td>USP9Y</td>\n",
       "      <td>protein_coding</td>\n",
       "    </tr>\n",
       "    <tr>\n",
       "      <th>264</th>\n",
       "      <td>chrY</td>\n",
       "      <td>12847045</td>\n",
       "      <td>1</td>\n",
       "      <td>USP9Y</td>\n",
       "      <td>protein_coding</td>\n",
       "    </tr>\n",
       "    <tr>\n",
       "      <th>288</th>\n",
       "      <td>chrY</td>\n",
       "      <td>22096007</td>\n",
       "      <td>-1</td>\n",
       "      <td>PRY2</td>\n",
       "      <td>protein_coding</td>\n",
       "    </tr>\n",
       "  </tbody>\n",
       "</table>\n",
       "</div>"
      ],
      "text/plain": [
       "    Chromosome     Start  Strand   Gene Transcript_type\n",
       "234       chrY  22490397       1    PRY  protein_coding\n",
       "259       chrY  12662368       1  USP9Y  protein_coding\n",
       "261       chrY  12701231       1  USP9Y  protein_coding\n",
       "264       chrY  12847045       1  USP9Y  protein_coding\n",
       "288       chrY  22096007      -1   PRY2  protein_coding"
      ]
     },
     "execution_count": 83,
     "metadata": {},
     "output_type": "execute_result"
    }
   ],
   "source": [
    "# I think Python 3.9 has problem with the regex currently in the atac_qc function\n",
    "import pybiomart as pbm\n",
    "dataset = pbm.Dataset(name=\"hsapiens_gene_ensembl\", host=\"http://www.ensembl.org\")\n",
    "annot = dataset.query(\n",
    "        attributes=[\n",
    "            \"chromosome_name\",\n",
    "            \"transcription_start_site\",\n",
    "            \"strand\",\n",
    "            \"external_gene_name\",\n",
    "            \"transcript_biotype\",\n",
    "        ]\n",
    "    )\n",
    "filter = annot[\"Chromosome/scaffold name\"].str.contains(\"CHR|GL|JH|MT\")\n",
    "annot = annot[~filter]\n",
    "annot[\"Chromosome/scaffold name\"] = \"chr\" + annot[\"Chromosome/scaffold name\"]\n",
    "annot.columns = [\"Chromosome\", \"Start\", \"Strand\", \"Gene\", \"Transcript_type\"]\n",
    "annot = annot[annot[\"Transcript_type\"] == \"protein_coding\"]\n",
    "annot = annot[\n",
    "    annot.Chromosome.isin(\n",
    "        [\"chr\" + str(i) for i in range(1, 23)] + [\"chrX\", \"chrY\", \"chrM\"]\n",
    "    )\n",
    "]\n",
    "annot.head()"
   ]
  },
  {
   "cell_type": "code",
   "execution_count": 84,
   "metadata": {},
   "outputs": [
    {
     "name": "stderr",
     "output_type": "stream",
     "text": [
      "Reading Fragments: 100%|██████████| 20000000/20000000 [01:11<00:00, 279186.38it/s]\n",
      "Fetching Regions...: 100%|██████████| 1000/1000 [00:58<00:00, 17.14it/s]\n"
     ]
    }
   ],
   "source": [
    "# Perform the standard CellCommander QC\n",
    "atac.atac_qc(\n",
    "    adata=adata,\n",
    "    n_top_features=n_top_features,\n",
    "    pct_counts_in_top_features_nmads=pct_counts_in_top_features_nmads,\n",
    "    n_for_ns_calc=n_for_ns_calc,\n",
    "    ns_nmads=ns_nmads,\n",
    "    ns_hi=ns_hi,\n",
    "    n_tss=n_tss,\n",
    "    tss_annot=annot,\n",
    "    tss_nmads=tss_nmads,\n",
    "    tss_hi=tss_hi,\n",
    "    tss_low=tss_low,\n",
    "    total_counts_nmads=total_counts_nmads,\n",
    "    total_counts_low=total_counts_low,\n",
    "    total_counts_hi=total_counts_hi,\n",
    "    n_features_nmads=n_features_nmads,\n",
    "    n_features_low=n_features_low,\n",
    "    random_state=random_state,\n",
    ")"
   ]
  },
  {
   "cell_type": "code",
   "execution_count": 85,
   "metadata": {},
   "outputs": [
    {
     "name": "stderr",
     "output_type": "stream",
     "text": [
      "/cellar/users/aklie/opt/miniconda3/envs/scverse-py39-R431/lib/python3.9/site-packages/scanpy/plotting/_anndata.py:842: FutureWarning: \n",
      "\n",
      "The `scale` parameter has been renamed and will be removed in v0.15.0. Pass `density_norm='width'` for the same effect.\n",
      "  ax = sns.violinplot(\n",
      "/cellar/users/aklie/opt/miniconda3/envs/scverse-py39-R431/lib/python3.9/site-packages/scanpy/plotting/_anndata.py:315: FutureWarning: is_categorical_dtype is deprecated and will be removed in a future version. Use isinstance(dtype, CategoricalDtype) instead\n",
      "  if is_categorical_dtype(adata.obs[key]):\n",
      "/cellar/users/aklie/opt/miniconda3/envs/scverse-py39-R431/lib/python3.9/site-packages/scanpy/plotting/_utils.py:714: FutureWarning: Series.__getitem__ treating keys as positions is deprecated. In a future version, integer keys will always be treated as labels (consistent with DataFrame behavior). To access a value by position, use `ser.iloc[pos]`\n",
      "  color = color[sort]\n"
     ]
    }
   ],
   "source": [
    "# Make the standard CellCommander QC plots\n",
    "atac.atac_qc_triplet_plot(\n",
    "    adata=adata,\n",
    "    outdir_path=outdir_path,\n",
    "    output_prefix=\"pre\",\n",
    "    total_counts_bins=100,\n",
    "    total_counts_low=total_counts_low,\n",
    "    total_counts_hi=total_counts_hi,\n",
    "    tss_low=tss_low,\n",
    "    tss_hi=tss_hi,\n",
    ")"
   ]
  },
  {
   "cell_type": "code",
   "execution_count": 86,
   "metadata": {},
   "outputs": [
    {
     "name": "stderr",
     "output_type": "stream",
     "text": [
      "/cellar/users/aklie/opt/miniconda3/envs/scverse-py39-R431/lib/python3.9/site-packages/anndata/_core/anndata.py:1113: FutureWarning: is_categorical_dtype is deprecated and will be removed in a future version. Use isinstance(dtype, CategoricalDtype) instead\n",
      "  if not is_categorical_dtype(df_full[k]):\n"
     ]
    }
   ],
   "source": [
    "# Filter the data\n",
    "adata, filtered_bc = atac.atac_outlier_filter(\n",
    "    adata,\n",
    "    outlier_cols=[\"outlier\", \"mt_outlier\"],\n",
    ")"
   ]
  },
  {
   "cell_type": "code",
   "execution_count": 87,
   "metadata": {},
   "outputs": [],
   "source": [
    "# Save the barcodes\n",
    "filtered_bc_path = os.path.join(outdir_path, \"filtered_barcodes.txt\")\n",
    "filtered_bc.to_series().to_csv(filtered_bc_path, sep=\"\\t\", index=False, header=False)"
   ]
  },
  {
   "cell_type": "code",
   "execution_count": 88,
   "metadata": {},
   "outputs": [
    {
     "name": "stderr",
     "output_type": "stream",
     "text": [
      "/cellar/users/aklie/opt/miniconda3/envs/scverse-py39-R431/lib/python3.9/site-packages/scanpy/plotting/_anndata.py:842: FutureWarning: \n",
      "\n",
      "The `scale` parameter has been renamed and will be removed in v0.15.0. Pass `density_norm='width'` for the same effect.\n",
      "  ax = sns.violinplot(\n",
      "/cellar/users/aklie/opt/miniconda3/envs/scverse-py39-R431/lib/python3.9/site-packages/scanpy/plotting/_anndata.py:315: FutureWarning: is_categorical_dtype is deprecated and will be removed in a future version. Use isinstance(dtype, CategoricalDtype) instead\n",
      "  if is_categorical_dtype(adata.obs[key]):\n",
      "/cellar/users/aklie/opt/miniconda3/envs/scverse-py39-R431/lib/python3.9/site-packages/scanpy/plotting/_utils.py:714: FutureWarning: Series.__getitem__ treating keys as positions is deprecated. In a future version, integer keys will always be treated as labels (consistent with DataFrame behavior). To access a value by position, use `ser.iloc[pos]`\n",
      "  color = color[sort]\n"
     ]
    }
   ],
   "source": [
    "# Make the standard CellCommander QC plots\n",
    "atac.atac_qc_triplet_plot(\n",
    "    adata=adata,\n",
    "    outdir_path=outdir_path,\n",
    "    output_prefix=\"post\",\n",
    "    total_counts_bins=100,\n",
    ")"
   ]
  },
  {
   "cell_type": "code",
   "execution_count": 89,
   "metadata": {},
   "outputs": [
    {
     "name": "stdout",
     "output_type": "stream",
     "text": [
      "Filtering genes based on cell count. Number of genes before filtering: 305581\n"
     ]
    },
    {
     "name": "stderr",
     "output_type": "stream",
     "text": [
      "/cellar/users/aklie/opt/miniconda3/envs/scverse-py39-R431/lib/python3.9/site-packages/anndata/_core/anndata.py:1113: FutureWarning: is_categorical_dtype is deprecated and will be removed in a future version. Use isinstance(dtype, CategoricalDtype) instead\n",
      "  if not is_categorical_dtype(df_full[k]):\n"
     ]
    },
    {
     "name": "stdout",
     "output_type": "stream",
     "text": [
      "Number of genes after filtering: 305579\n"
     ]
    }
   ],
   "source": [
    "# Optionally filter genes if min_cells is provided as arg\n",
    "if min_cells_per_feature is not None:\n",
    "    print(f\"Filtering genes based on cell count. Number of genes before filtering: {adata.n_vars}\")\n",
    "    sc.pp.filter_genes(adata, min_cells=min_cells_per_feature)\n",
    "    print(f\"Number of genes after filtering: {adata.n_vars}\")"
   ]
  },
  {
   "cell_type": "code",
   "execution_count": 90,
   "metadata": {},
   "outputs": [],
   "source": [
    "# Write out h5ad\n",
    "adata.write(os.path.join(outdir_path, f\"{output_prefix}.h5ad\"))"
   ]
  },
  {
   "cell_type": "code",
   "execution_count": 91,
   "metadata": {},
   "outputs": [
    {
     "data": {
      "text/plain": [
       "AnnData object with n_obs × n_vars = 11962 × 305579\n",
       "    obs: 'n_features_by_counts', 'total_counts', 'pct_counts_in_top_20_features', 'log_total_counts', 'nucleosome_signal', 'nuc_signal_filter', 'tss_score', 'outlier', 'atac_outlier'\n",
       "    var: 'gene_ids', 'feature_types', 'genome', 'n_cells_by_counts', 'mean_counts', 'pct_dropout_by_counts', 'total_counts', 'n_cells'\n",
       "    uns: 'files'"
      ]
     },
     "execution_count": 91,
     "metadata": {},
     "output_type": "execute_result"
    }
   ],
   "source": [
    "adata"
   ]
  },
  {
   "attachments": {},
   "cell_type": "markdown",
   "metadata": {},
   "source": [
    "# DONE!"
   ]
  },
  {
   "attachments": {},
   "cell_type": "markdown",
   "metadata": {},
   "source": [
    "---"
   ]
  }
 ],
 "metadata": {
  "kernelspec": {
   "display_name": "Python 3.9 R 4.3.1 scverse",
   "language": "python",
   "name": "scverse-py39-r431"
  },
  "orig_nbformat": 4
 },
 "nbformat": 4,
 "nbformat_minor": 2
}
