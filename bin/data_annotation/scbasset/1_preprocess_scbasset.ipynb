{
 "cells": [
  {
   "cell_type": "code",
   "execution_count": 1,
   "metadata": {},
   "outputs": [],
   "source": [
    "# Load necessary packages\n",
    "import os\n",
    "import gc\n",
    "import h5py\n",
    "import psutil\n",
    "import pandas as pd\n",
    "import scanpy as sc\n",
    "from scipy import sparse"
   ]
  },
  {
   "cell_type": "code",
   "execution_count": 10,
   "metadata": {},
   "outputs": [
    {
     "data": {
      "text/plain": [
       "('/cellar/users/aklie/data/datasets/Zhu2023_sc-islet_snATAC-seq/processed/23Oct23/cellranger/MM168/outs',\n",
       " '/cellar/users/aklie/data/datasets/Zhu2023_sc-islet_snATAC-seq/processed/23Oct23/cellranger/MM168/outs/filtered_peak_bc_matrix.h5',\n",
       " '/cellar/users/aklie/data/datasets/Zhu2023_sc-islet_snATAC-seq/processed/23Oct23/cellranger/MM168/outs/peaks.bed',\n",
       " '/cellar/users/aklie/data/datasets/Zhu2023_sc-islet_snATAC-seq/annotation/24Oct23/scbasset/MM168')"
      ]
     },
     "execution_count": 10,
     "metadata": {},
     "output_type": "execute_result"
    }
   ],
   "source": [
    "# Set-up the paths to data (TODO: change to your own paths)\n",
    "input_dir = '/cellar/users/aklie/data/datasets/Zhu2023_sc-islet_snATAC-seq/processed/23Oct23/cellranger/MM168/outs'\n",
    "h5_file = os.path.join(input_dir, 'filtered_peak_bc_matrix.h5')\n",
    "bed_file = os.path.join(input_dir, 'peaks.bed')\n",
    "output_dir = '/cellar/users/aklie/data/datasets/Zhu2023_sc-islet_snATAC-seq/annotation/24Oct23/scbasset/MM168'\n",
    "if not os.path.exists(output_dir):\n",
    "    os.makedirs(output_dir)\n",
    "input_dir, h5_file, bed_file, output_dir"
   ]
  },
  {
   "attachments": {},
   "cell_type": "markdown",
   "metadata": {},
   "source": [
    "# Load data"
   ]
  },
  {
   "cell_type": "code",
   "execution_count": 12,
   "metadata": {},
   "outputs": [
    {
     "data": {
      "text/plain": [
       "AnnData object with n_obs × n_vars = 7998 × 192667\n",
       "    var: 'gene_ids', 'feature_types', 'genome'"
      ]
     },
     "execution_count": 12,
     "metadata": {},
     "output_type": "execute_result"
    }
   ],
   "source": [
    "# Read peaks and h5ad\n",
    "peak = pd.read_csv(bed_file, sep='\\t', names=['chr','start','end'], comment='#')\n",
    "ad = sc.read_10x_h5(h5_file, gex_only=False)\n",
    "ad"
   ]
  },
  {
   "attachments": {},
   "cell_type": "markdown",
   "metadata": {},
   "source": [
    "# Filter low quality cells"
   ]
  },
  {
   "cell_type": "code",
   "execution_count": 13,
   "metadata": {},
   "outputs": [],
   "source": [
    "# Use Scanpy to process the data\n",
    "ad.var['chr'] = peak['chr'].values\n",
    "ad.var['start'] = peak['start'].values\n",
    "ad.var['end'] = peak['end'].values"
   ]
  },
  {
   "cell_type": "code",
   "execution_count": 14,
   "metadata": {},
   "outputs": [],
   "source": [
    "# basic stats\n",
    "sc.pp.filter_cells(ad, min_genes=0)\n",
    "sc.pp.filter_genes(ad, min_cells=0)"
   ]
  },
  {
   "cell_type": "code",
   "execution_count": 15,
   "metadata": {},
   "outputs": [],
   "source": [
    "# a gene need to be expressed in 5% cells and a peak need to be accessible in 5% cells\n",
    "thres = int(ad.shape[0]*0.05)\n",
    "ad = ad[:, ad.var['n_cells'] > thres]"
   ]
  },
  {
   "attachments": {},
   "cell_type": "markdown",
   "metadata": {},
   "source": [
    "# Save h5ad for next step"
   ]
  },
  {
   "cell_type": "code",
   "execution_count": 16,
   "metadata": {},
   "outputs": [
    {
     "name": "stderr",
     "output_type": "stream",
     "text": [
      "/cellar/users/aklie/opt/miniconda3/envs/scbasset/lib/python3.7/site-packages/anndata/_core/anndata.py:1235: ImplicitModificationWarning: Trying to modify attribute `.var` of view, initializing view as actual.\n",
      "  df[key] = c\n",
      "/cellar/users/aklie/opt/miniconda3/envs/scbasset/lib/python3.7/site-packages/anndata/_core/anndata.py:1235: ImplicitModificationWarning: Trying to modify attribute `.var` of view, initializing view as actual.\n",
      "  df[key] = c\n"
     ]
    }
   ],
   "source": [
    "# Keep only chromosomes 1-22, X, Y\n",
    "chrs = ['chr'+str(i) for i in range(1,23)] + ['chrX', 'chrY']\n",
    "ad = ad[:, ad.var['chr'].isin(chrs)]\n",
    "ad.write(os.path.join(output_dir, 'atac_ad.h5ad'))"
   ]
  },
  {
   "cell_type": "code",
   "execution_count": 17,
   "metadata": {},
   "outputs": [
    {
     "name": "stdout",
     "output_type": "stream",
     "text": [
      "process 0 peaks takes 2.8 s\n",
      "process 1000 peaks takes 5.5 s\n",
      "process 2000 peaks takes 7.9 s\n",
      "process 3000 peaks takes 9.8 s\n",
      "process 4000 peaks takes 12.0 s\n",
      "process 5000 peaks takes 14.7 s\n",
      "process 6000 peaks takes 16.7 s\n",
      "process 7000 peaks takes 19.0 s\n",
      "process 8000 peaks takes 21.3 s\n",
      "process 9000 peaks takes 23.1 s\n",
      "process 10000 peaks takes 26.2 s\n",
      "process 11000 peaks takes 31.4 s\n",
      "process 12000 peaks takes 33.5 s\n",
      "process 13000 peaks takes 35.9 s\n",
      "process 14000 peaks takes 38.6 s\n",
      "process 15000 peaks takes 42.1 s\n",
      "process 16000 peaks takes 43.9 s\n",
      "process 17000 peaks takes 46.2 s\n",
      "process 18000 peaks takes 48.2 s\n",
      "process 19000 peaks takes 50.8 s\n",
      "process 20000 peaks takes 54.9 s\n",
      "process 0 peaks takes 2.2 s\n",
      "process 1000 peaks takes 3.2 s\n",
      "process 2000 peaks takes 4.4 s\n",
      "process 3000 peaks takes 6.1 s\n",
      "process 4000 peaks takes 7.4 s\n",
      "process 5000 peaks takes 8.4 s\n",
      "process 6000 peaks takes 9.4 s\n",
      "process 7000 peaks takes 10.1 s\n",
      "process 8000 peaks takes 10.9 s\n",
      "process 9000 peaks takes 11.8 s\n",
      "process 10000 peaks takes 12.6 s\n",
      "process 11000 peaks takes 13.4 s\n",
      "process 12000 peaks takes 14.5 s\n",
      "process 13000 peaks takes 15.4 s\n",
      "process 14000 peaks takes 16.4 s\n",
      "process 15000 peaks takes 17.3 s\n",
      "process 16000 peaks takes 18.3 s\n",
      "process 17000 peaks takes 19.1 s\n",
      "process 18000 peaks takes 20.1 s\n",
      "process 0 peaks takes 1.2 s\n",
      "process 0 peaks takes 1.4 s\n"
     ]
    }
   ],
   "source": [
    "%%bash\n",
    "source activate scbasset\n",
    "python /cellar/users/aklie/opt/ml4gland/scBasset/bin/scbasset_preprocess.py \\\n",
    "    --ad_file /cellar/users/aklie/data/datasets/Zhu2023_sc-islet_snATAC-seq/annotation/24Oct23/scbasset/MM168/atac_ad.h5ad \\\n",
    "    --input_fasta /cellar/users/aklie/data/ml4gland/genomes/hg38/hg38.fa \\\n",
    "    --out_path /cellar/users/aklie/data/datasets/Zhu2023_sc-islet_snATAC-seq/annotation/24Oct23/scbasset/MM168"
   ]
  },
  {
   "attachments": {},
   "cell_type": "markdown",
   "metadata": {},
   "source": [
    "# DONE!"
   ]
  },
  {
   "attachments": {},
   "cell_type": "markdown",
   "metadata": {},
   "source": [
    "---"
   ]
  }
 ],
 "metadata": {
  "kernelspec": {
   "display_name": "Python 3.7 scbasset",
   "language": "python",
   "name": "scbasset"
  },
  "orig_nbformat": 4
 },
 "nbformat": 4,
 "nbformat_minor": 2
}
