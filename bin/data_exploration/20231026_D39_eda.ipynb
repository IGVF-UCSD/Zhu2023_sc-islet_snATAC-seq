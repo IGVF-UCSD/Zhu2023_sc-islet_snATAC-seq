{
 "cells": [
  {
   "attachments": {},
   "cell_type": "markdown",
   "metadata": {},
   "source": [
    "# Take a look a counts for one sample"
   ]
  },
  {
   "cell_type": "code",
   "execution_count": 12,
   "metadata": {},
   "outputs": [],
   "source": [
    "# Imports\n",
    "import os\n",
    "import numpy as np\n",
    "from scipy.io import mmread\n",
    "import pandas as pd\n",
    "import matplotlib.pyplot as plt\n",
    "import seaborn as sns\n",
    "import scanpy as sc\n",
    "from muon import atac as ac\n",
    "\n",
    "# CellCommander\n",
    "from cellcommander.qc import atac"
   ]
  },
  {
   "cell_type": "code",
   "execution_count": 19,
   "metadata": {},
   "outputs": [
    {
     "name": "stderr",
     "output_type": "stream",
     "text": [
      "/cellar/users/aklie/opt/miniconda3/envs/scverse-py39-R431/lib/python3.9/site-packages/anndata/_core/anndata.py:1113: FutureWarning: is_categorical_dtype is deprecated and will be removed in a future version. Use isinstance(dtype, CategoricalDtype) instead\n",
      "  if not is_categorical_dtype(df_full[k]):\n"
     ]
    },
    {
     "data": {
      "text/plain": [
       "AnnData object with n_obs × n_vars = 8953 × 307115\n",
       "    var: 'gene_ids', 'feature_types', 'genome'\n",
       "    uns: 'files'"
      ]
     },
     "execution_count": 19,
     "metadata": {},
     "output_type": "execute_result"
    }
   ],
   "source": [
    "# Load the dataset\n",
    "adata = ac.read_10x_h5(\n",
    "    \"/cellar/users/aklie/data/datasets/Zhu2023_sc-islet_snATAC-seq/processed/23Oct23/cellranger/MM290/outs/filtered_peak_bc_matrix.h5\"\n",
    ")\n",
    "adata.var_names_make_unique()\n",
    "adata.uns[\"files\"] = {}\n",
    "adata.uns[\"files\"][\"fragments\"] = \"/cellar/users/aklie/data/datasets/Zhu2023_sc-islet_snATAC-seq/processed/23Oct23/cellranger/MM290/outs/fragments.tsv.gz\"\n",
    "adata"
   ]
  },
  {
   "cell_type": "code",
   "execution_count": 48,
   "metadata": {},
   "outputs": [
    {
     "data": {
      "text/html": [
       "<div>\n",
       "<style scoped>\n",
       "    .dataframe tbody tr th:only-of-type {\n",
       "        vertical-align: middle;\n",
       "    }\n",
       "\n",
       "    .dataframe tbody tr th {\n",
       "        vertical-align: top;\n",
       "    }\n",
       "\n",
       "    .dataframe thead th {\n",
       "        text-align: right;\n",
       "    }\n",
       "</style>\n",
       "<table border=\"1\" class=\"dataframe\">\n",
       "  <thead>\n",
       "    <tr style=\"text-align: right;\">\n",
       "      <th></th>\n",
       "      <th>Chromosome</th>\n",
       "      <th>Start</th>\n",
       "      <th>Strand</th>\n",
       "      <th>Gene</th>\n",
       "      <th>Transcript_type</th>\n",
       "    </tr>\n",
       "  </thead>\n",
       "  <tbody>\n",
       "    <tr>\n",
       "      <th>234</th>\n",
       "      <td>chrY</td>\n",
       "      <td>22490397</td>\n",
       "      <td>1</td>\n",
       "      <td>PRY</td>\n",
       "      <td>protein_coding</td>\n",
       "    </tr>\n",
       "    <tr>\n",
       "      <th>259</th>\n",
       "      <td>chrY</td>\n",
       "      <td>12662368</td>\n",
       "      <td>1</td>\n",
       "      <td>USP9Y</td>\n",
       "      <td>protein_coding</td>\n",
       "    </tr>\n",
       "    <tr>\n",
       "      <th>261</th>\n",
       "      <td>chrY</td>\n",
       "      <td>12701231</td>\n",
       "      <td>1</td>\n",
       "      <td>USP9Y</td>\n",
       "      <td>protein_coding</td>\n",
       "    </tr>\n",
       "    <tr>\n",
       "      <th>264</th>\n",
       "      <td>chrY</td>\n",
       "      <td>12847045</td>\n",
       "      <td>1</td>\n",
       "      <td>USP9Y</td>\n",
       "      <td>protein_coding</td>\n",
       "    </tr>\n",
       "    <tr>\n",
       "      <th>288</th>\n",
       "      <td>chrY</td>\n",
       "      <td>22096007</td>\n",
       "      <td>-1</td>\n",
       "      <td>PRY2</td>\n",
       "      <td>protein_coding</td>\n",
       "    </tr>\n",
       "  </tbody>\n",
       "</table>\n",
       "</div>"
      ],
      "text/plain": [
       "    Chromosome     Start  Strand   Gene Transcript_type\n",
       "234       chrY  22490397       1    PRY  protein_coding\n",
       "259       chrY  12662368       1  USP9Y  protein_coding\n",
       "261       chrY  12701231       1  USP9Y  protein_coding\n",
       "264       chrY  12847045       1  USP9Y  protein_coding\n",
       "288       chrY  22096007      -1   PRY2  protein_coding"
      ]
     },
     "execution_count": 48,
     "metadata": {},
     "output_type": "execute_result"
    }
   ],
   "source": [
    "# I think Python 3.9 has problem with the regex currently in the atac_qc function\n",
    "import pybiomart as pbm\n",
    "dataset = pbm.Dataset(name=\"hsapiens_gene_ensembl\", host=\"http://www.ensembl.org\")\n",
    "annot = dataset.query(\n",
    "        attributes=[\n",
    "            \"chromosome_name\",\n",
    "            \"transcription_start_site\",\n",
    "            \"strand\",\n",
    "            \"external_gene_name\",\n",
    "            \"transcript_biotype\",\n",
    "        ]\n",
    "    )\n",
    "filter = annot[\"Chromosome/scaffold name\"].str.contains(\"CHR|GL|JH|MT\")\n",
    "annot = annot[~filter]\n",
    "annot[\"Chromosome/scaffold name\"] = \"chr\" + annot[\"Chromosome/scaffold name\"]\n",
    "annot.columns = [\"Chromosome\", \"Start\", \"Strand\", \"Gene\", \"Transcript_type\"]\n",
    "annot = annot[annot[\"Transcript_type\"] == \"protein_coding\"]\n",
    "annot = annot[\n",
    "    annot.Chromosome.isin(\n",
    "        [\"chr\" + str(i) for i in range(1, 23)] + [\"chrX\", \"chrY\", \"chrM\"]\n",
    "    )\n",
    "]\n",
    "annot.head()"
   ]
  },
  {
   "cell_type": "code",
   "execution_count": 49,
   "metadata": {},
   "outputs": [
    {
     "name": "stderr",
     "output_type": "stream",
     "text": [
      "Reading Fragments:   0%|          | 0/8953000 [00:00<?, ?it/s]"
     ]
    },
    {
     "name": "stderr",
     "output_type": "stream",
     "text": [
      "Reading Fragments: 100%|██████████| 8953000/8953000 [00:32<00:00, 279250.30it/s]\n",
      "Fetching Regions...: 100%|██████████| 1000/1000 [00:34<00:00, 28.97it/s]\n"
     ]
    },
    {
     "data": {
      "text/plain": [
       "AnnData object with n_obs × n_vars = 8953 × 307115\n",
       "    obs: 'n_features_by_counts', 'total_counts', 'pct_counts_in_top_20_features', 'log_total_counts', 'nucleosome_signal', 'nuc_signal_filter', 'tss_score', 'outlier', 'atac_outlier'\n",
       "    var: 'gene_ids', 'feature_types', 'genome', 'n_cells_by_counts', 'mean_counts', 'pct_dropout_by_counts', 'total_counts'\n",
       "    uns: 'files'"
      ]
     },
     "execution_count": 49,
     "metadata": {},
     "output_type": "execute_result"
    }
   ],
   "source": [
    "adata = atac.atac_qc(\n",
    "    adata=adata,\n",
    "    n_top_features=20,\n",
    "    pct_counts_in_top_features_nmads=None,\n",
    "    n_for_ns_calc=1000,\n",
    "    ns_nmads=None,\n",
    "    ns_hi=1.5,\n",
    "    n_tss=1000,\n",
    "    tss_annot=annot,\n",
    "    tss_nmads=None,\n",
    "    tss_hi=50,\n",
    "    tss_low=4,\n",
    "    total_counts_nmads=None,\n",
    "    total_counts_low=1000,\n",
    "    total_counts_hi=60000,\n",
    "    n_features_nmads=None,\n",
    "    n_features_low=1000,\n",
    "    random_state=1234,\n",
    ")"
   ]
  },
  {
   "cell_type": "code",
   "execution_count": 52,
   "metadata": {},
   "outputs": [
    {
     "name": "stderr",
     "output_type": "stream",
     "text": [
      "/cellar/users/aklie/opt/miniconda3/envs/scverse-py39-R431/lib/python3.9/site-packages/scanpy/plotting/_anndata.py:842: FutureWarning: \n",
      "\n",
      "The `scale` parameter has been renamed and will be removed in v0.15.0. Pass `density_norm='width'` for the same effect.\n",
      "  ax = sns.violinplot(\n",
      "/cellar/users/aklie/opt/miniconda3/envs/scverse-py39-R431/lib/python3.9/site-packages/scanpy/plotting/_anndata.py:315: FutureWarning: is_categorical_dtype is deprecated and will be removed in a future version. Use isinstance(dtype, CategoricalDtype) instead\n",
      "  if is_categorical_dtype(adata.obs[key]):\n",
      "/cellar/users/aklie/opt/miniconda3/envs/scverse-py39-R431/lib/python3.9/site-packages/scanpy/plotting/_utils.py:714: FutureWarning: Series.__getitem__ treating keys as positions is deprecated. In a future version, integer keys will always be treated as labels (consistent with DataFrame behavior). To access a value by position, use `ser.iloc[pos]`\n",
      "  color = color[sort]\n"
     ]
    }
   ],
   "source": [
    "atac.atac_qc_triplet_plot(\n",
    "    adata=adata,\n",
    "    outdir_path=\"/cellar/users/aklie/data/datasets/Zhu2023_sc-islet_snATAC-seq/annotation/26Oct23/eda/MM290\",\n",
    "    output_prefix=\"pre\",\n",
    "    total_counts_bins=100,\n",
    "    total_counts_low=1000,\n",
    "    total_counts_hi=60000,\n",
    "    tss_low=4,\n",
    "    tss_hi=50,\n",
    ")"
   ]
  },
  {
   "cell_type": "code",
   "execution_count": 55,
   "metadata": {},
   "outputs": [
    {
     "data": {
      "text/plain": [
       "(atac_outlier\n",
       " True     5621\n",
       " False    3332\n",
       " Name: count, dtype: int64,\n",
       " outlier\n",
       " False    8231\n",
       " True      722\n",
       " Name: count, dtype: int64)"
      ]
     },
     "execution_count": 55,
     "metadata": {},
     "output_type": "execute_result"
    }
   ],
   "source": [
    "adata.obs[\"atac_outlier\"].value_counts(), adata.obs[\"outlier\"].value_counts()"
   ]
  },
  {
   "attachments": {},
   "cell_type": "markdown",
   "metadata": {},
   "source": [
    "# DONE!"
   ]
  },
  {
   "attachments": {},
   "cell_type": "markdown",
   "metadata": {},
   "source": [
    "---"
   ]
  }
 ],
 "metadata": {
  "kernelspec": {
   "display_name": "Python 3.9 R 4.3.1 scverse",
   "language": "python",
   "name": "scverse-py39-r431"
  },
  "language_info": {
   "codemirror_mode": {
    "name": "ipython",
    "version": 3
   },
   "file_extension": ".py",
   "mimetype": "text/x-python",
   "name": "python",
   "nbconvert_exporter": "python",
   "pygments_lexer": "ipython3",
   "version": "3.9.18"
  },
  "orig_nbformat": 4
 },
 "nbformat": 4,
 "nbformat_minor": 2
}
