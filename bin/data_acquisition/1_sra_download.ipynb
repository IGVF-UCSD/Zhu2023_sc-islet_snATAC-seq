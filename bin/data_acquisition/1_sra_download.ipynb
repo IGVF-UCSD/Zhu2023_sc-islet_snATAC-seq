{
 "cells": [
  {
   "attachments": {},
   "cell_type": "markdown",
   "metadata": {},
   "source": [
    "# Set-up"
   ]
  },
  {
   "cell_type": "code",
   "execution_count": 1,
   "metadata": {},
   "outputs": [
    {
     "name": "stderr",
     "output_type": "stream",
     "text": [
      "/cellar/users/aklie/opt/miniconda3/envs/get_data/lib/python3.7/site-packages/ipykernel_launcher.py:2: TqdmWarning: IProgress not found. Please update jupyter and ipywidgets. See https://ipywidgets.readthedocs.io/en/stable/user_install.html\n",
      "  \n"
     ]
    }
   ],
   "source": [
    "import os\n",
    "from tqdm.autonotebook import tqdm\n",
    "from pysradb.sraweb import SRAweb"
   ]
  },
  {
   "cell_type": "code",
   "execution_count": 2,
   "metadata": {},
   "outputs": [],
   "source": [
    "# Choose the current dataset we are working with\n",
    "dataset_name = \"Zhu2023_sc-islet_snATAC-seq\"\n",
    "srp_id = \"SRP374215\""
   ]
  },
  {
   "cell_type": "code",
   "execution_count": 7,
   "metadata": {},
   "outputs": [
    {
     "data": {
      "text/plain": [
       "('/cellar/users/aklie/data/igvf/beta_cell_networks',\n",
       " '/cellar/users/aklie/data/igvf/beta_cell_networks/download/Zhu2023_sc-islet_snATAC-seq',\n",
       " '/cellar/users/aklie/data/igvf/beta_cell_networks/fastq/Zhu2023_sc-islet_snATAC-seq')"
      ]
     },
     "execution_count": 7,
     "metadata": {},
     "output_type": "execute_result"
    }
   ],
   "source": [
    "# Set-up directories\n",
    "base_dir = \"/cellar/users/aklie/data/igvf/beta_cell_networks\"\n",
    "cwd = os.path.join(base_dir, \"download\", dataset_name)\n",
    "fastq_dir = os.path.join(base_dir, \"fastq\", dataset_name)\n",
    "base_dir, cwd, fastq_dir"
   ]
  },
  {
   "cell_type": "code",
   "execution_count": 8,
   "metadata": {},
   "outputs": [],
   "source": [
    "# Connect to SRA\n",
    "db = SRAweb()"
   ]
  },
  {
   "attachments": {},
   "cell_type": "markdown",
   "metadata": {},
   "source": [
    "# Get metadata"
   ]
  },
  {
   "cell_type": "code",
   "execution_count": 9,
   "metadata": {},
   "outputs": [],
   "source": [
    "# Grab the metadata for the SRP\n",
    "metadata = db.sra_metadata(srp_id, detailed=True)"
   ]
  },
  {
   "cell_type": "code",
   "execution_count": 10,
   "metadata": {},
   "outputs": [],
   "source": [
    "# Save the metadata and the list of srr ids\n",
    "metadata.to_csv(os.path.join(cwd, f\"{srp_id}_metadata.tsv\"), index=False, sep=\"\\t\")\n",
    "metadata[\"run_accession\"].to_csv(os.path.join(cwd, f\"{srp_id}_srr_ids.txt\"), index=False, header=False)"
   ]
  },
  {
   "attachments": {},
   "cell_type": "markdown",
   "metadata": {},
   "source": [
    "# Download non-diabetic samples (`sra` files)"
   ]
  },
  {
   "cell_type": "code",
   "execution_count": 11,
   "metadata": {},
   "outputs": [
    {
     "name": "stdout",
     "output_type": "stream",
     "text": [
      "Checking download URLs\n"
     ]
    },
    {
     "name": "stdout",
     "output_type": "stream",
     "text": [
      "The following files will be downloaded: \n",
      "\n",
      "run_accession study_accession experiment_accession public_url                                                                                                  download_url                                                                                            out_dir                                                                            filesize\n",
      "SRR19140210   SRP374215       SRX15207301          https://sra-downloadb.be-md.ncbi.nlm.nih.gov/sos1/sra-pub-zq-38/SRR019/19140/SRR19140210/SRR19140210.lite.1 ftp://ftp-trace.ncbi.nlm.nih.gov/sra/sra-instant/reads/ByRun/sra/SRR/SRR191/SRR19140210/SRR19140210.sra /cellar/users/aklie/data/igvf/beta_cell_networks/fastq/Zhu2023_sc-islet_snATAC-seq  5.4 GB \n",
      "SRR19140211   SRP374215       SRX15207300          https://sra-downloadb.be-md.ncbi.nlm.nih.gov/sos1/sra-pub-zq-38/SRR019/19140/SRR19140211/SRR19140211.lite.1 ftp://ftp-trace.ncbi.nlm.nih.gov/sra/sra-instant/reads/ByRun/sra/SRR/SRR191/SRR19140211/SRR19140211.sra /cellar/users/aklie/data/igvf/beta_cell_networks/fastq/Zhu2023_sc-islet_snATAC-seq  7.1 GB \n",
      "SRR19140212   SRP374215       SRX15207299          https://sra-downloadb.be-md.ncbi.nlm.nih.gov/sos2/sra-pub-zq-20/SRR019/19140/SRR19140212/SRR19140212.lite.1 ftp://ftp-trace.ncbi.nlm.nih.gov/sra/sra-instant/reads/ByRun/sra/SRR/SRR191/SRR19140212/SRR19140212.sra /cellar/users/aklie/data/igvf/beta_cell_networks/fastq/Zhu2023_sc-islet_snATAC-seq 13.0 GB \n",
      "SRR19140213   SRP374215       SRX15207298          https://sra-downloadb.be-md.ncbi.nlm.nih.gov/sos1/sra-pub-zq-38/SRR019/19140/SRR19140213/SRR19140213.lite.1 ftp://ftp-trace.ncbi.nlm.nih.gov/sra/sra-instant/reads/ByRun/sra/SRR/SRR191/SRR19140213/SRR19140213.sra /cellar/users/aklie/data/igvf/beta_cell_networks/fastq/Zhu2023_sc-islet_snATAC-seq 24.4 GB \n",
      "SRR19140214   SRP374215       SRX15207297                                                 https://sra-pub-run-odp.s3.amazonaws.com/sra/SRR19140214/SRR19140214 ftp://ftp-trace.ncbi.nlm.nih.gov/sra/sra-instant/reads/ByRun/sra/SRR/SRR191/SRR19140214/SRR19140214.sra /cellar/users/aklie/data/igvf/beta_cell_networks/fastq/Zhu2023_sc-islet_snATAC-seq 44.6 GB \n",
      "\n",
      "\n",
      "Total size: 94.5 GB\n",
      "\n",
      "\n",
      "\n",
      "\n"
     ]
    },
    {
     "name": "stderr",
     "output_type": "stream",
     "text": [
      " 80%|████████  | 4/5 [16:31<04:07, 247.76s/it]"
     ]
    }
   ],
   "source": [
    "db.download(df=metadata, out_dir=fastq_dir)"
   ]
  },
  {
   "attachments": {},
   "cell_type": "markdown",
   "metadata": {},
   "source": [
    "# Convert to `fastq` files"
   ]
  },
  {
   "cell_type": "code",
   "execution_count": null,
   "metadata": {},
   "outputs": [],
   "source": [
    "import glob\n",
    "import subprocess"
   ]
  },
  {
   "cell_type": "code",
   "execution_count": 64,
   "metadata": {},
   "outputs": [],
   "source": [
    "tmp_dir = \"/cellar/users/aklie/tmp/fastq-dump\"\n",
    "gzip = True\n",
    "split_files = True\n",
    "threads = 4"
   ]
  },
  {
   "cell_type": "code",
   "execution_count": 72,
   "metadata": {},
   "outputs": [
    {
     "name": "stdout",
     "output_type": "stream",
     "text": [
      "parallel-fastq-dump --threads 4 --outdir /cellar/users/aklie/data/igvf/beta_cell_networks/fastq/Wang2023_islet_snATAC-seq/SRP311849/SRX10424698 --split-files --tmpdir /cellar/users/aklie/tmp/fastq-dump --gzip -s /cellar/users/aklie/data/igvf/beta_cell_networks/fastq/Wang2023_islet_snATAC-seq/SRP311849/SRX10424698/SRR14048750.sra\n"
     ]
    }
   ],
   "source": [
    "# Loop through and print out each SRA download file within the subdirectories of the fastq_dir\n",
    "# Run the following command parallel-fastq-dump --threads 4 --outdir . --split-files --tmpdir $tmp_dir --gzip -s SRR14048750.sra\n",
    "for sra_file in glob.glob(os.path.join(fastq_dir, srp_id, \"*\", \"*.sra\")):\n",
    "    sra_dir = os.path.dirname(sra_file)\n",
    "    if gzip:\n",
    "        cmd = f\"parallel-fastq-dump --threads {threads} --outdir {sra_dir} --split-files --tmpdir {tmp_dir} --gzip -s {sra_file}\"\n",
    "    else:\n",
    "        cmd = f\"parallel-fastq-dump --threads {threads} --outdir {sra_dir} --split-files --tmpdir {tmp_dir} -s {sra_file}\"\n",
    "    print(cmd)\n",
    "    \n",
    "    # Check to see if the files have already been downloaded\n",
    "    if len(glob.glob(os.path.join(sra_dir, \"*.fastq*\"))) > 0:\n",
    "        print(f\"Files already downloaded for {sra_dir}\")\n",
    "    else:\n",
    "        subprocess.run(cmd, shell=True)"
   ]
  },
  {
   "cell_type": "code",
   "execution_count": 65,
   "metadata": {},
   "outputs": [
    {
     "name": "stderr",
     "output_type": "stream",
     "text": [
      "100%|██████████| 1/1 [00:00<00:00, 13662.23it/s]\n"
     ]
    }
   ],
   "source": [
    "# Loop through and print out each SRA download file within the subdirectories of the fastq_dir\n",
    "for file in tqdm(os.listdir(fastq_dir)):\n",
    "    if file.endswith(\".sra\"):\n",
    "        file_path = os.path.join(fastq_dir, file)\n",
    "        print(file_path)"
   ]
  },
  {
   "attachments": {},
   "cell_type": "markdown",
   "metadata": {},
   "source": [
    "# DONE!"
   ]
  },
  {
   "attachments": {},
   "cell_type": "markdown",
   "metadata": {},
   "source": [
    "---"
   ]
  }
 ],
 "metadata": {
  "kernelspec": {
   "display_name": "Python 3.7 get_data",
   "language": "python",
   "name": "get_data"
  },
  "orig_nbformat": 4
 },
 "nbformat": 4,
 "nbformat_minor": 2
}
