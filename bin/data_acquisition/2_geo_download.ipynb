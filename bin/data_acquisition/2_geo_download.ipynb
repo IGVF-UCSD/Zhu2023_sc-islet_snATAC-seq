{
 "cells": [
  {
   "attachments": {},
   "cell_type": "markdown",
   "metadata": {},
   "source": [
    "# Set-up"
   ]
  },
  {
   "cell_type": "code",
   "execution_count": 1,
   "metadata": {},
   "outputs": [],
   "source": [
    "import os\n",
    "import GEOparse"
   ]
  },
  {
   "cell_type": "code",
   "execution_count": 5,
   "metadata": {},
   "outputs": [],
   "source": [
    "# Choose the current dataset we are working with\n",
    "dataset_name = \"Zhu2023_sc-islet_snATAC-seq\"\n",
    "geo_id = \"GSE202498\""
   ]
  },
  {
   "cell_type": "code",
   "execution_count": 12,
   "metadata": {},
   "outputs": [
    {
     "data": {
      "text/plain": [
       "('/cellar/users/aklie/data/igvf/beta_cell_networks',\n",
       " '/cellar/users/aklie/data/igvf/beta_cell_networks/download/Zhu2023_sc-islet_snATAC-seq',\n",
       " '/cellar/users/aklie/data/igvf/beta_cell_networks/h5ad/Zhu2023_sc-islet_snATAC-seq',\n",
       " '/cellar/users/aklie/data/igvf/beta_cell_networks/barcode_metadata/Zhu2023_sc-islet_snATAC-seq',\n",
       " '/cellar/users/aklie/data/igvf/beta_cell_networks/feature_metadata/Zhu2023_sc-islet_snATAC-seq',\n",
       " '/cellar/users/aklie/data/igvf/beta_cell_networks/matrix/Zhu2023_sc-islet_snATAC-seq')"
      ]
     },
     "execution_count": 12,
     "metadata": {},
     "output_type": "execute_result"
    }
   ],
   "source": [
    "# Set-up directories\n",
    "base_dir = \"/cellar/users/aklie/data/igvf/beta_cell_networks\"\n",
    "cwd = os.path.join(base_dir, \"download\", dataset_name)\n",
    "h5ad_dir = os.path.join(base_dir, \"h5ad\", dataset_name)\n",
    "barcode_metadata_dir = os.path.join(base_dir, \"barcode_metadata\", dataset_name)\n",
    "feature_metadata_dir = os.path.join(base_dir, \"feature_metadata\", dataset_name)\n",
    "matrix_dir = os.path.join(base_dir, \"matrix\", dataset_name)\n",
    "base_dir, cwd, h5ad_dir, barcode_metadata_dir, feature_metadata_dir, matrix_dir"
   ]
  },
  {
   "cell_type": "code",
   "execution_count": 13,
   "metadata": {},
   "outputs": [
    {
     "name": "stderr",
     "output_type": "stream",
     "text": [
      "04-Jul-2023 09:50:37 DEBUG utils - Directory /cellar/users/aklie/data/igvf/beta_cell_networks/download/Zhu2023_sc-islet_snATAC-seq already exists. Skipping.\n",
      "04-Jul-2023 09:50:37 INFO GEOparse - File already exist: using local version.\n",
      "04-Jul-2023 09:50:37 INFO GEOparse - Parsing /cellar/users/aklie/data/igvf/beta_cell_networks/download/Zhu2023_sc-islet_snATAC-seq/GSE202498_family.soft.gz: \n",
      "04-Jul-2023 09:50:37 DEBUG GEOparse - DATABASE: GeoMiame\n",
      "04-Jul-2023 09:50:37 DEBUG GEOparse - SERIES: GSE202498\n",
      "04-Jul-2023 09:50:37 DEBUG GEOparse - PLATFORM: GPL18573\n",
      "04-Jul-2023 09:50:37 DEBUG GEOparse - SAMPLE: GSM6123269\n",
      "04-Jul-2023 09:50:37 DEBUG GEOparse - SAMPLE: GSM6123270\n",
      "04-Jul-2023 09:50:37 DEBUG GEOparse - SAMPLE: GSM6123271\n",
      "04-Jul-2023 09:50:37 DEBUG GEOparse - SAMPLE: GSM6123272\n",
      "04-Jul-2023 09:50:37 DEBUG GEOparse - SAMPLE: GSM6123273\n"
     ]
    }
   ],
   "source": [
    "gse = GEOparse.get_GEO(geo=geo_id, destdir=cwd)"
   ]
  },
  {
   "cell_type": "code",
   "execution_count": 14,
   "metadata": {},
   "outputs": [
    {
     "data": {
      "text/plain": [
       "('ftp://ftp.ncbi.nlm.nih.gov/geo/series/GSE202nnn/GSE202498/suppl/GSE202498_all.barcodes.txt.gz',\n",
       " 'ftp://ftp.ncbi.nlm.nih.gov/geo/series/GSE202nnn/GSE202498/suppl/GSE202498_all.mtx.gz',\n",
       " 'ftp://ftp.ncbi.nlm.nih.gov/geo/series/GSE202nnn/GSE202498/suppl/GSE202498_all.regions.txt.gz',\n",
       " 'ftp://ftp.ncbi.nlm.nih.gov/geo/series/GSE202nnn/GSE202498/suppl/GSE202498_final_cluster.h5ad.gz',\n",
       " 'ftp://ftp.ncbi.nlm.nih.gov/geo/series/GSE202nnn/GSE202498/suppl/GSE202498_raw_5kb.h5ad.gz')"
      ]
     },
     "execution_count": 14,
     "metadata": {},
     "output_type": "execute_result"
    }
   ],
   "source": [
    "barcodes = gse.metadata[\"supplementary_file\"][0]\n",
    "processed_matrix = gse.metadata[\"supplementary_file\"][1]\n",
    "regions = gse.metadata[\"supplementary_file\"][2]\n",
    "cell_clustering = gse.metadata[\"supplementary_file\"][3]\n",
    "raw_h5ad = gse.metadata[\"supplementary_file\"][4]\n",
    "barcodes, processed_matrix, regions, cell_clustering, raw_matrix"
   ]
  },
  {
   "cell_type": "code",
   "execution_count": 15,
   "metadata": {},
   "outputs": [
    {
     "name": "stdout",
     "output_type": "stream",
     "text": [
      "--2023-07-04 09:50:43--  ftp://ftp.ncbi.nlm.nih.gov/geo/series/GSE202nnn/GSE202498/suppl/GSE202498_all.barcodes.txt.gz\n",
      "           => ‘/cellar/users/aklie/data/igvf/beta_cell_networks/barcode_metadata/Zhu2023_sc-islet_snATAC-seq/GSE202498_all.barcodes.txt.gz’\n",
      "Resolving ftp.ncbi.nlm.nih.gov (ftp.ncbi.nlm.nih.gov)... 165.112.9.230, 130.14.250.7, 2607:f220:41e:250::7, ...\n",
      "Connecting to ftp.ncbi.nlm.nih.gov (ftp.ncbi.nlm.nih.gov)|165.112.9.230|:21... connected.\n",
      "Logging in as anonymous ... Logged in!\n",
      "==> SYST ... done.    ==> PWD ... done.\n",
      "==> TYPE I ... done.  ==> CWD (1) /geo/series/GSE202nnn/GSE202498/suppl ... done.\n",
      "==> SIZE GSE202498_all.barcodes.txt.gz ... 259074\n",
      "==> PASV ... done.    ==> RETR GSE202498_all.barcodes.txt.gz ... done.\n",
      "Length: 259074 (253K) (unauthoritative)\n",
      "\n",
      "GSE202498_all.barco 100%[===================>] 253.00K   926KB/s    in 0.3s    \n",
      "\n",
      "2023-07-04 09:50:44 (926 KB/s) - ‘/cellar/users/aklie/data/igvf/beta_cell_networks/barcode_metadata/Zhu2023_sc-islet_snATAC-seq/GSE202498_all.barcodes.txt.gz’ saved [259074]\n",
      "\n",
      "--2023-07-04 09:50:45--  ftp://ftp.ncbi.nlm.nih.gov/geo/series/GSE202nnn/GSE202498/suppl/GSE202498_all.mtx.gz\n",
      "           => ‘/cellar/users/aklie/data/igvf/beta_cell_networks/matrix/Zhu2023_sc-islet_snATAC-seq/GSE202498_all.mtx.gz’\n",
      "Resolving ftp.ncbi.nlm.nih.gov (ftp.ncbi.nlm.nih.gov)... 165.112.9.230, 130.14.250.7, 2607:f220:41f:250::228, ...\n",
      "Connecting to ftp.ncbi.nlm.nih.gov (ftp.ncbi.nlm.nih.gov)|165.112.9.230|:21... connected.\n",
      "Logging in as anonymous ... Logged in!\n",
      "==> SYST ... done.    ==> PWD ... done.\n",
      "==> TYPE I ... done.  ==> CWD (1) /geo/series/GSE202nnn/GSE202498/suppl ... done.\n",
      "==> SIZE GSE202498_all.mtx.gz ... 1273298778\n",
      "==> PASV ... done.    ==> RETR GSE202498_all.mtx.gz ... done.\n",
      "Length: 1273298778 (1.2G) (unauthoritative)\n",
      "\n",
      "GSE202498_all.mtx.g 100%[===================>]   1.19G  46.7MB/s    in 27s     \n",
      "\n",
      "2023-07-04 09:51:13 (44.7 MB/s) - ‘/cellar/users/aklie/data/igvf/beta_cell_networks/matrix/Zhu2023_sc-islet_snATAC-seq/GSE202498_all.mtx.gz’ saved [1273298778]\n",
      "\n",
      "--2023-07-04 09:51:14--  ftp://ftp.ncbi.nlm.nih.gov/geo/series/GSE202nnn/GSE202498/suppl/GSE202498_all.regions.txt.gz\n",
      "           => ‘/cellar/users/aklie/data/igvf/beta_cell_networks/feature_metadata/Zhu2023_sc-islet_snATAC-seq/GSE202498_all.regions.txt.gz’\n",
      "Resolving ftp.ncbi.nlm.nih.gov (ftp.ncbi.nlm.nih.gov)... 165.112.9.230, 130.14.250.7, 2607:f220:41e:250::7, ...\n",
      "Connecting to ftp.ncbi.nlm.nih.gov (ftp.ncbi.nlm.nih.gov)|165.112.9.230|:21... connected.\n",
      "Logging in as anonymous ... Logged in!\n",
      "==> SYST ... done.    ==> PWD ... done.\n",
      "==> TYPE I ... done.  ==> CWD (1) /geo/series/GSE202nnn/GSE202498/suppl ... done.\n",
      "==> SIZE GSE202498_all.regions.txt.gz ... 3670103\n",
      "==> PASV ... done.    ==> RETR GSE202498_all.regions.txt.gz ... done.\n",
      "Length: 3670103 (3.5M) (unauthoritative)\n",
      "\n",
      "GSE202498_all.regio 100%[===================>]   3.50M  6.15MB/s    in 0.6s    \n",
      "\n",
      "2023-07-04 09:51:16 (6.15 MB/s) - ‘/cellar/users/aklie/data/igvf/beta_cell_networks/feature_metadata/Zhu2023_sc-islet_snATAC-seq/GSE202498_all.regions.txt.gz’ saved [3670103]\n",
      "\n",
      "--2023-07-04 09:51:16--  ftp://ftp.ncbi.nlm.nih.gov/geo/series/GSE202nnn/GSE202498/suppl/GSE202498_final_cluster.h5ad.gz\n",
      "           => ‘/cellar/users/aklie/data/igvf/beta_cell_networks/h5ad/Zhu2023_sc-islet_snATAC-seq/GSE202498_final_cluster.h5ad.gz’\n",
      "Resolving ftp.ncbi.nlm.nih.gov (ftp.ncbi.nlm.nih.gov)... 165.112.9.230, 130.14.250.7, 2607:f220:41f:250::228, ...\n",
      "Connecting to ftp.ncbi.nlm.nih.gov (ftp.ncbi.nlm.nih.gov)|165.112.9.230|:21... connected.\n",
      "Logging in as anonymous ... Logged in!\n",
      "==> SYST ... done.    ==> PWD ... done.\n",
      "==> TYPE I ... done.  ==> CWD (1) /geo/series/GSE202nnn/GSE202498/suppl ... done.\n",
      "==> SIZE GSE202498_final_cluster.h5ad.gz ... 12690596700\n",
      "==> PASV ... done.    ==> RETR GSE202498_final_cluster.h5ad.gz ... done.\n",
      "Length: 12690596700 (12G) (unauthoritative)\n",
      "\n",
      "GSE202498_final_clu 100%[===================>]  11.82G  40.0MB/s    in 4m 38s  \n",
      "\n",
      "2023-07-04 09:55:55 (43.6 MB/s) - ‘/cellar/users/aklie/data/igvf/beta_cell_networks/h5ad/Zhu2023_sc-islet_snATAC-seq/GSE202498_final_cluster.h5ad.gz’ saved [12690596700]\n",
      "\n",
      "--2023-07-04 09:55:56--  ftp://ftp.ncbi.nlm.nih.gov/geo/series/GSE202nnn/GSE202498/suppl/GSE202498_raw_5kb.h5ad.gz\n",
      "           => ‘/cellar/users/aklie/data/igvf/beta_cell_networks/h5ad/Zhu2023_sc-islet_snATAC-seq/GSE202498_raw_5kb.h5ad.gz’\n",
      "Resolving ftp.ncbi.nlm.nih.gov (ftp.ncbi.nlm.nih.gov)... 130.14.250.12, 130.14.250.10, 2607:f220:41e:250::12, ...\n",
      "Connecting to ftp.ncbi.nlm.nih.gov (ftp.ncbi.nlm.nih.gov)|130.14.250.12|:21... connected.\n",
      "Logging in as anonymous ... Logged in!\n",
      "==> SYST ... done.    ==> PWD ... done.\n",
      "==> TYPE I ... done.  ==> CWD (1) /geo/series/GSE202nnn/GSE202498/suppl ... done.\n",
      "==> SIZE GSE202498_raw_5kb.h5ad.gz ... 1193388956\n",
      "==> PASV ... done.    ==> RETR GSE202498_raw_5kb.h5ad.gz ... done.\n",
      "Length: 1193388956 (1.1G) (unauthoritative)\n",
      "\n",
      "GSE202498_raw_5kb.h 100%[===================>]   1.11G  46.4MB/s    in 33s     \n",
      "\n",
      "2023-07-04 09:56:29 (35.0 MB/s) - ‘/cellar/users/aklie/data/igvf/beta_cell_networks/h5ad/Zhu2023_sc-islet_snATAC-seq/GSE202498_raw_5kb.h5ad.gz’ saved [1193388956]\n",
      "\n"
     ]
    }
   ],
   "source": [
    "# wget the files to the correct directories\n",
    "#!wget -P {barcode_metadata_dir} {barcodes}\n",
    "#!wget -P {matrix_dir} {processed_matrix}\n",
    "#!wget -P {feature_metadata_dir} {regions}\n",
    "#!wget -P {h5ad_dir} {cell_clustering}\n",
    "#!wget -P {h5ad_dir} {raw_matrix}"
   ]
  },
  {
   "attachments": {},
   "cell_type": "markdown",
   "metadata": {},
   "source": [
    "# DONE!"
   ]
  },
  {
   "attachments": {},
   "cell_type": "markdown",
   "metadata": {},
   "source": [
    "---"
   ]
  }
 ],
 "metadata": {
  "kernelspec": {
   "display_name": "Python 3.7 get_data",
   "language": "python",
   "name": "get_data"
  },
  "orig_nbformat": 4
 },
 "nbformat": 4,
 "nbformat_minor": 2
}
