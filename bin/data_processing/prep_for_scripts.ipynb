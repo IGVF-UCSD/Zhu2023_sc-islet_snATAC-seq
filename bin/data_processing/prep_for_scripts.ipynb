{
 "cells": [
  {
   "attachments": {},
   "cell_type": "markdown",
   "metadata": {},
   "source": [
    "# Prep for kallisto bs and cellranger-atac scripts"
   ]
  },
  {
   "cell_type": "code",
   "execution_count": 1,
   "metadata": {},
   "outputs": [],
   "source": [
    "# Imports\n",
    "import os\n",
    "import glob\n",
    "import pickle\n",
    "import pandas as pd"
   ]
  },
  {
   "cell_type": "code",
   "execution_count": 6,
   "metadata": {},
   "outputs": [],
   "source": [
    "# Set paths\n",
    "supp_excel_table = \"/cellar/users/aklie/data/datasets/Zhu2023_sc-islet_snATAC-seq/metadata/23Oct23/1-s2.0-S1534580723001077-mmc2.xlsx\"\n",
    "sra_metadata = \"/cellar/users/aklie/data/datasets/Zhu2023_sc-islet_scRNA-seq/metadata/24Oct23/SRP374217_metadata.tsv\"\n",
    "seqkit_stats = \"/cellar/users/aklie/data/datasets/Zhu2023_sc-islet_scRNA-seq/metadata/24Oct23/fastq_stats.tsv\""
   ]
  },
  {
   "cell_type": "code",
   "execution_count": 7,
   "metadata": {},
   "outputs": [
    {
     "data": {
      "text/plain": [
       "(5,\n",
       " ['/cellar/users/aklie/data/datasets/Zhu2023_sc-islet_scRNA-seq/fastq/24Oct23/SRP374217/SRX15207312',\n",
       "  '/cellar/users/aklie/data/datasets/Zhu2023_sc-islet_scRNA-seq/fastq/24Oct23/SRP374217/SRX15207311',\n",
       "  '/cellar/users/aklie/data/datasets/Zhu2023_sc-islet_scRNA-seq/fastq/24Oct23/SRP374217/SRX15207313',\n",
       "  '/cellar/users/aklie/data/datasets/Zhu2023_sc-islet_scRNA-seq/fastq/24Oct23/SRP374217/SRX15207309',\n",
       "  '/cellar/users/aklie/data/datasets/Zhu2023_sc-islet_scRNA-seq/fastq/24Oct23/SRP374217/SRX15207310'])"
      ]
     },
     "execution_count": 7,
     "metadata": {},
     "output_type": "execute_result"
    }
   ],
   "source": [
    "# Grab datasets dirs\n",
    "datasets = glob.glob(\"/cellar/users/aklie/data/datasets/Zhu2023_sc-islet_scRNA-seq/fastq/24Oct23/SRP374217/*\")\n",
    "datasets = [x for x in datasets if \"vdb_validate_all.out\" not in x]\n",
    "len(datasets), datasets"
   ]
  },
  {
   "cell_type": "code",
   "execution_count": 35,
   "metadata": {},
   "outputs": [],
   "source": [
    "# Load and clean metadata\n",
    "islet_scrna_metadata = pd.read_excel(supp_excel_table, sheet_name=0, skiprows=4).iloc[5:10, :]\n",
    "islet_scrna_metadata.drop(columns=\"Type of data\", inplace=True)\n",
    "islet_scrna_metadata.dropna(axis=1, how=\"all\", inplace=True)"
   ]
  },
  {
   "cell_type": "code",
   "execution_count": 36,
   "metadata": {},
   "outputs": [],
   "source": [
    "# Add SRA accessions\n",
    "sra_df = pd.read_csv(sra_metadata, sep=\"\\t\")\n",
    "sra_df[\"sample_id\"] = [\"H1-D39\", \"H1-D32\", \"H1-D21\", \"H1-D14\", \"H1-D11\"]\n",
    "islet_scrna_metadata = islet_scrna_metadata.merge(sra_df[[\"run_accession\", \"experiment_accession\", \"sample_id\"]], left_on=\"ID\", right_on=\"sample_id\", how=\"left\")"
   ]
  },
  {
   "cell_type": "code",
   "execution_count": 37,
   "metadata": {},
   "outputs": [
    {
     "data": {
      "text/plain": [
       "{'SRX15207309': 'H1-D11',\n",
       " 'SRX15207310': 'H1-D14',\n",
       " 'SRX15207311': 'H1-D21',\n",
       " 'SRX15207312': 'H1-D32',\n",
       " 'SRX15207313': 'H1-D39'}"
      ]
     },
     "execution_count": 37,
     "metadata": {},
     "output_type": "execute_result"
    }
   ],
   "source": [
    "# Get a mapping of experiment accessions to sample ids, useful for chromap and CellRanger\n",
    "expacc_to_sample = islet_scrna_metadata.set_index(\"experiment_accession\")[\"sample_id\"].to_dict()\n",
    "expacc_to_sample"
   ]
  },
  {
   "cell_type": "code",
   "execution_count": 45,
   "metadata": {},
   "outputs": [
    {
     "data": {
      "text/plain": [
       "dict_values(['H1-D11', 'H1-D14', 'H1-D21', 'H1-D32', 'H1-D39'])"
      ]
     },
     "execution_count": 45,
     "metadata": {},
     "output_type": "execute_result"
    }
   ],
   "source": [
    "expacc_to_sample.values()"
   ]
  },
  {
   "cell_type": "code",
   "execution_count": 39,
   "metadata": {},
   "outputs": [
    {
     "name": "stdout",
     "output_type": "stream",
     "text": [
      "mv /cellar/users/aklie/data/datasets/Zhu2023_sc-islet_scRNA-seq/fastq/24Oct23/SRP374217/SRX15207312/SRR19140223_1.fastq.gz /cellar/users/aklie/data/datasets/Zhu2023_sc-islet_scRNA-seq/fastq/24Oct23/SRP374217/SRX15207312/H1-D32_S1_L001_R1_001.fastq.gz\n",
      "mv /cellar/users/aklie/data/datasets/Zhu2023_sc-islet_scRNA-seq/fastq/24Oct23/SRP374217/SRX15207312/SRR19140223_2.fastq.gz /cellar/users/aklie/data/datasets/Zhu2023_sc-islet_scRNA-seq/fastq/24Oct23/SRP374217/SRX15207312/H1-D32_S1_L001_R2_001.fastq.gz\n",
      "mv /cellar/users/aklie/data/datasets/Zhu2023_sc-islet_scRNA-seq/fastq/24Oct23/SRP374217/SRX15207311/SRR19140224_2.fastq.gz /cellar/users/aklie/data/datasets/Zhu2023_sc-islet_scRNA-seq/fastq/24Oct23/SRP374217/SRX15207311/H1-D21_S1_L001_R2_001.fastq.gz\n",
      "mv /cellar/users/aklie/data/datasets/Zhu2023_sc-islet_scRNA-seq/fastq/24Oct23/SRP374217/SRX15207311/SRR19140224_1.fastq.gz /cellar/users/aklie/data/datasets/Zhu2023_sc-islet_scRNA-seq/fastq/24Oct23/SRP374217/SRX15207311/H1-D21_S1_L001_R1_001.fastq.gz\n",
      "mv /cellar/users/aklie/data/datasets/Zhu2023_sc-islet_scRNA-seq/fastq/24Oct23/SRP374217/SRX15207313/SRR19140222_2.fastq.gz /cellar/users/aklie/data/datasets/Zhu2023_sc-islet_scRNA-seq/fastq/24Oct23/SRP374217/SRX15207313/H1-D39_S1_L001_R2_001.fastq.gz\n",
      "mv /cellar/users/aklie/data/datasets/Zhu2023_sc-islet_scRNA-seq/fastq/24Oct23/SRP374217/SRX15207313/SRR19140222_1.fastq.gz /cellar/users/aklie/data/datasets/Zhu2023_sc-islet_scRNA-seq/fastq/24Oct23/SRP374217/SRX15207313/H1-D39_S1_L001_R1_001.fastq.gz\n",
      "mv /cellar/users/aklie/data/datasets/Zhu2023_sc-islet_scRNA-seq/fastq/24Oct23/SRP374217/SRX15207309/SRR19140226_1.fastq.gz /cellar/users/aklie/data/datasets/Zhu2023_sc-islet_scRNA-seq/fastq/24Oct23/SRP374217/SRX15207309/H1-D11_S1_L001_R1_001.fastq.gz\n",
      "mv /cellar/users/aklie/data/datasets/Zhu2023_sc-islet_scRNA-seq/fastq/24Oct23/SRP374217/SRX15207309/SRR19140226_2.fastq.gz /cellar/users/aklie/data/datasets/Zhu2023_sc-islet_scRNA-seq/fastq/24Oct23/SRP374217/SRX15207309/H1-D11_S1_L001_R2_001.fastq.gz\n",
      "mv /cellar/users/aklie/data/datasets/Zhu2023_sc-islet_scRNA-seq/fastq/24Oct23/SRP374217/SRX15207310/SRR19140225_2.fastq.gz /cellar/users/aklie/data/datasets/Zhu2023_sc-islet_scRNA-seq/fastq/24Oct23/SRP374217/SRX15207310/H1-D14_S1_L001_R2_001.fastq.gz\n",
      "mv /cellar/users/aklie/data/datasets/Zhu2023_sc-islet_scRNA-seq/fastq/24Oct23/SRP374217/SRX15207310/SRR19140225_1.fastq.gz /cellar/users/aklie/data/datasets/Zhu2023_sc-islet_scRNA-seq/fastq/24Oct23/SRP374217/SRX15207310/H1-D14_S1_L001_R1_001.fastq.gz\n"
     ]
    }
   ],
   "source": [
    "# Rename for CellRanger\n",
    "for dataset in datasets:\n",
    "    fastq_files = glob.glob(os.path.join(dataset, \"*.fastq.gz\"))\n",
    "    file_mapping = {}\n",
    "    for fastq_file in fastq_files:\n",
    "        read_type = fastq_file.split(\"_\")[-1].split(\".\")[0]\n",
    "        file_path = os.path.dirname(fastq_file)\n",
    "        exp_acc = os.path.basename(file_path).split(\"_\")[0]\n",
    "        sample_id = expacc_to_sample[exp_acc]\n",
    "        new_file = f\"{file_path}/{sample_id}_S1_L001_R{read_type}_001.fastq.gz\"\n",
    "        file_mapping[fastq_file] = new_file\n",
    "        cmd = f\"mv {fastq_file} {new_file}\"\n",
    "        print(cmd)\n",
    "        os.system(cmd)\n",
    "    with open(os.path.join(file_path, \"file_mapping.pickle\"), \"wb\") as f:\n",
    "        pickle.dump(file_mapping, f)"
   ]
  },
  {
   "cell_type": "code",
   "execution_count": 40,
   "metadata": {},
   "outputs": [
    {
     "data": {
      "text/html": [
       "<div>\n",
       "<style scoped>\n",
       "    .dataframe tbody tr th:only-of-type {\n",
       "        vertical-align: middle;\n",
       "    }\n",
       "\n",
       "    .dataframe tbody tr th {\n",
       "        vertical-align: top;\n",
       "    }\n",
       "\n",
       "    .dataframe thead th {\n",
       "        text-align: right;\n",
       "    }\n",
       "</style>\n",
       "<table border=\"1\" class=\"dataframe\">\n",
       "  <thead>\n",
       "    <tr style=\"text-align: right;\">\n",
       "      <th></th>\n",
       "      <th>run_accession</th>\n",
       "      <th>experiment_accession</th>\n",
       "      <th>sample_id</th>\n",
       "      <th>total_spots</th>\n",
       "    </tr>\n",
       "  </thead>\n",
       "  <tbody>\n",
       "    <tr>\n",
       "      <th>4</th>\n",
       "      <td>SRR19140226</td>\n",
       "      <td>SRX15207309</td>\n",
       "      <td>H1-D11</td>\n",
       "      <td>700803322</td>\n",
       "    </tr>\n",
       "    <tr>\n",
       "      <th>1</th>\n",
       "      <td>SRR19140223</td>\n",
       "      <td>SRX15207312</td>\n",
       "      <td>H1-D32</td>\n",
       "      <td>573654434</td>\n",
       "    </tr>\n",
       "    <tr>\n",
       "      <th>0</th>\n",
       "      <td>SRR19140222</td>\n",
       "      <td>SRX15207313</td>\n",
       "      <td>H1-D39</td>\n",
       "      <td>515273491</td>\n",
       "    </tr>\n",
       "    <tr>\n",
       "      <th>2</th>\n",
       "      <td>SRR19140224</td>\n",
       "      <td>SRX15207311</td>\n",
       "      <td>H1-D21</td>\n",
       "      <td>429276850</td>\n",
       "    </tr>\n",
       "    <tr>\n",
       "      <th>3</th>\n",
       "      <td>SRR19140225</td>\n",
       "      <td>SRX15207310</td>\n",
       "      <td>H1-D14</td>\n",
       "      <td>325250810</td>\n",
       "    </tr>\n",
       "  </tbody>\n",
       "</table>\n",
       "</div>"
      ],
      "text/plain": [
       "  run_accession experiment_accession sample_id  total_spots\n",
       "4   SRR19140226          SRX15207309    H1-D11    700803322\n",
       "1   SRR19140223          SRX15207312    H1-D32    573654434\n",
       "0   SRR19140222          SRX15207313    H1-D39    515273491\n",
       "2   SRR19140224          SRX15207311    H1-D21    429276850\n",
       "3   SRR19140225          SRX15207310    H1-D14    325250810"
      ]
     },
     "execution_count": 40,
     "metadata": {},
     "output_type": "execute_result"
    }
   ],
   "source": [
    "# Check sizes\n",
    "sra_df[[\"run_accession\", \"experiment_accession\", \"sample_id\", \"total_spots\"]].sort_values(\"total_spots\", ascending=False)"
   ]
  },
  {
   "attachments": {},
   "cell_type": "markdown",
   "metadata": {},
   "source": [
    "# Seqkit statistics"
   ]
  },
  {
   "cell_type": "code",
   "execution_count": 46,
   "metadata": {},
   "outputs": [
    {
     "data": {
      "text/html": [
       "<div>\n",
       "<style scoped>\n",
       "    .dataframe tbody tr th:only-of-type {\n",
       "        vertical-align: middle;\n",
       "    }\n",
       "\n",
       "    .dataframe tbody tr th {\n",
       "        vertical-align: top;\n",
       "    }\n",
       "\n",
       "    .dataframe thead th {\n",
       "        text-align: right;\n",
       "    }\n",
       "</style>\n",
       "<table border=\"1\" class=\"dataframe\">\n",
       "  <thead>\n",
       "    <tr style=\"text-align: right;\">\n",
       "      <th></th>\n",
       "      <th>file</th>\n",
       "      <th>format</th>\n",
       "      <th>type</th>\n",
       "      <th>num_seqs</th>\n",
       "      <th>sum_len</th>\n",
       "      <th>min_len</th>\n",
       "      <th>avg_len</th>\n",
       "      <th>max_len</th>\n",
       "    </tr>\n",
       "  </thead>\n",
       "  <tbody>\n",
       "    <tr>\n",
       "      <th>0</th>\n",
       "      <td>/cellar/users/aklie/data/datasets/Zhu2023_sc-i...</td>\n",
       "      <td>FASTQ</td>\n",
       "      <td>DNA</td>\n",
       "      <td>700803322</td>\n",
       "      <td>70781135522</td>\n",
       "      <td>101</td>\n",
       "      <td>101.0</td>\n",
       "      <td>101</td>\n",
       "    </tr>\n",
       "    <tr>\n",
       "      <th>1</th>\n",
       "      <td>/cellar/users/aklie/data/datasets/Zhu2023_sc-i...</td>\n",
       "      <td>FASTQ</td>\n",
       "      <td>DNA</td>\n",
       "      <td>700803322</td>\n",
       "      <td>70781135522</td>\n",
       "      <td>101</td>\n",
       "      <td>101.0</td>\n",
       "      <td>101</td>\n",
       "    </tr>\n",
       "    <tr>\n",
       "      <th>2</th>\n",
       "      <td>/cellar/users/aklie/data/datasets/Zhu2023_sc-i...</td>\n",
       "      <td>FASTQ</td>\n",
       "      <td>DNA</td>\n",
       "      <td>325250810</td>\n",
       "      <td>32850331810</td>\n",
       "      <td>101</td>\n",
       "      <td>101.0</td>\n",
       "      <td>101</td>\n",
       "    </tr>\n",
       "    <tr>\n",
       "      <th>3</th>\n",
       "      <td>/cellar/users/aklie/data/datasets/Zhu2023_sc-i...</td>\n",
       "      <td>FASTQ</td>\n",
       "      <td>DNA</td>\n",
       "      <td>325250810</td>\n",
       "      <td>32850331810</td>\n",
       "      <td>101</td>\n",
       "      <td>101.0</td>\n",
       "      <td>101</td>\n",
       "    </tr>\n",
       "    <tr>\n",
       "      <th>4</th>\n",
       "      <td>/cellar/users/aklie/data/datasets/Zhu2023_sc-i...</td>\n",
       "      <td>FASTQ</td>\n",
       "      <td>DNA</td>\n",
       "      <td>429276850</td>\n",
       "      <td>43356961850</td>\n",
       "      <td>101</td>\n",
       "      <td>101.0</td>\n",
       "      <td>101</td>\n",
       "    </tr>\n",
       "    <tr>\n",
       "      <th>5</th>\n",
       "      <td>/cellar/users/aklie/data/datasets/Zhu2023_sc-i...</td>\n",
       "      <td>FASTQ</td>\n",
       "      <td>DNA</td>\n",
       "      <td>429276850</td>\n",
       "      <td>43356961850</td>\n",
       "      <td>101</td>\n",
       "      <td>101.0</td>\n",
       "      <td>101</td>\n",
       "    </tr>\n",
       "    <tr>\n",
       "      <th>6</th>\n",
       "      <td>/cellar/users/aklie/data/datasets/Zhu2023_sc-i...</td>\n",
       "      <td>FASTQ</td>\n",
       "      <td>DNA</td>\n",
       "      <td>573654434</td>\n",
       "      <td>57939097834</td>\n",
       "      <td>101</td>\n",
       "      <td>101.0</td>\n",
       "      <td>101</td>\n",
       "    </tr>\n",
       "    <tr>\n",
       "      <th>7</th>\n",
       "      <td>/cellar/users/aklie/data/datasets/Zhu2023_sc-i...</td>\n",
       "      <td>FASTQ</td>\n",
       "      <td>DNA</td>\n",
       "      <td>573654434</td>\n",
       "      <td>57939097834</td>\n",
       "      <td>101</td>\n",
       "      <td>101.0</td>\n",
       "      <td>101</td>\n",
       "    </tr>\n",
       "    <tr>\n",
       "      <th>8</th>\n",
       "      <td>/cellar/users/aklie/data/datasets/Zhu2023_sc-i...</td>\n",
       "      <td>FASTQ</td>\n",
       "      <td>DNA</td>\n",
       "      <td>515273491</td>\n",
       "      <td>52042622591</td>\n",
       "      <td>101</td>\n",
       "      <td>101.0</td>\n",
       "      <td>101</td>\n",
       "    </tr>\n",
       "    <tr>\n",
       "      <th>9</th>\n",
       "      <td>/cellar/users/aklie/data/datasets/Zhu2023_sc-i...</td>\n",
       "      <td>FASTQ</td>\n",
       "      <td>DNA</td>\n",
       "      <td>515273491</td>\n",
       "      <td>52042622591</td>\n",
       "      <td>101</td>\n",
       "      <td>101.0</td>\n",
       "      <td>101</td>\n",
       "    </tr>\n",
       "  </tbody>\n",
       "</table>\n",
       "</div>"
      ],
      "text/plain": [
       "                                                file format type   num_seqs  \\\n",
       "0  /cellar/users/aklie/data/datasets/Zhu2023_sc-i...  FASTQ  DNA  700803322   \n",
       "1  /cellar/users/aklie/data/datasets/Zhu2023_sc-i...  FASTQ  DNA  700803322   \n",
       "2  /cellar/users/aklie/data/datasets/Zhu2023_sc-i...  FASTQ  DNA  325250810   \n",
       "3  /cellar/users/aklie/data/datasets/Zhu2023_sc-i...  FASTQ  DNA  325250810   \n",
       "4  /cellar/users/aklie/data/datasets/Zhu2023_sc-i...  FASTQ  DNA  429276850   \n",
       "5  /cellar/users/aklie/data/datasets/Zhu2023_sc-i...  FASTQ  DNA  429276850   \n",
       "6  /cellar/users/aklie/data/datasets/Zhu2023_sc-i...  FASTQ  DNA  573654434   \n",
       "7  /cellar/users/aklie/data/datasets/Zhu2023_sc-i...  FASTQ  DNA  573654434   \n",
       "8  /cellar/users/aklie/data/datasets/Zhu2023_sc-i...  FASTQ  DNA  515273491   \n",
       "9  /cellar/users/aklie/data/datasets/Zhu2023_sc-i...  FASTQ  DNA  515273491   \n",
       "\n",
       "       sum_len  min_len  avg_len  max_len  \n",
       "0  70781135522      101    101.0      101  \n",
       "1  70781135522      101    101.0      101  \n",
       "2  32850331810      101    101.0      101  \n",
       "3  32850331810      101    101.0      101  \n",
       "4  43356961850      101    101.0      101  \n",
       "5  43356961850      101    101.0      101  \n",
       "6  57939097834      101    101.0      101  \n",
       "7  57939097834      101    101.0      101  \n",
       "8  52042622591      101    101.0      101  \n",
       "9  52042622591      101    101.0      101  "
      ]
     },
     "execution_count": 46,
     "metadata": {},
     "output_type": "execute_result"
    }
   ],
   "source": [
    "pd.read_csv(seqkit_stats, sep=\"\\t\")"
   ]
  },
  {
   "attachments": {},
   "cell_type": "markdown",
   "metadata": {},
   "source": [
    "# DONE!"
   ]
  },
  {
   "attachments": {},
   "cell_type": "markdown",
   "metadata": {},
   "source": [
    "---"
   ]
  }
 ],
 "metadata": {
  "kernelspec": {
   "display_name": "Python 3.7 get_data",
   "language": "python",
   "name": "get_data"
  },
  "language_info": {
   "codemirror_mode": {
    "name": "ipython",
    "version": 3
   },
   "file_extension": ".py",
   "mimetype": "text/x-python",
   "name": "python",
   "nbconvert_exporter": "python",
   "pygments_lexer": "ipython3",
   "version": "3.7.12"
  },
  "orig_nbformat": 4
 },
 "nbformat": 4,
 "nbformat_minor": 2
}
